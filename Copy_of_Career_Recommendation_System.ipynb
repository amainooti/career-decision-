{
  "cells": [
    {
      "cell_type": "markdown",
      "metadata": {
        "id": "view-in-github",
        "colab_type": "text"
      },
      "source": [
        "<a href=\"https://colab.research.google.com/github/amainooti/career-decision-/blob/main/Copy_of_Career_Recommendation_System.ipynb\" target=\"_parent\"><img src=\"https://colab.research.google.com/assets/colab-badge.svg\" alt=\"Open In Colab\"/></a>"
      ]
    },
    {
      "cell_type": "markdown",
      "id": "6796799d",
      "metadata": {
        "id": "6796799d"
      },
      "source": [
        "# Career Recommendation System"
      ]
    },
    {
      "cell_type": "code",
      "source": [
        "from google.colab import drive\n",
        "drive.mount('/content/drive')"
      ],
      "metadata": {
        "id": "rgrEgRjv-wRF",
        "colab": {
          "base_uri": "https://localhost:8080/"
        },
        "outputId": "87342c50-6085-49a9-f8af-1f85f201dc9f"
      },
      "id": "rgrEgRjv-wRF",
      "execution_count": null,
      "outputs": [
        {
          "output_type": "stream",
          "name": "stdout",
          "text": [
            "Mounted at /content/drive\n"
          ]
        }
      ]
    },
    {
      "cell_type": "code",
      "execution_count": null,
      "id": "ef83cc29",
      "metadata": {
        "id": "ef83cc29"
      },
      "outputs": [],
      "source": [
        "import pandas as pd\n",
        "import numpy as np"
      ]
    },
    {
      "cell_type": "code",
      "execution_count": null,
      "id": "c4e86314",
      "metadata": {
        "colab": {
          "base_uri": "https://localhost:8080/",
          "height": 261
        },
        "id": "c4e86314",
        "outputId": "40bb5617-b7d9-401d-f918-667fd2adbd87"
      },
      "outputs": [
        {
          "output_type": "execute_result",
          "data": {
            "text/plain": [
              "   Perc 10           Stream  Perc 11  Perc 12 Drawing arts Sports  \\\n",
              "0     96.0     Science(PCM)     86.0     90.0          Yes    Yes   \n",
              "1     78.0         Commerce     89.0     90.0          Yes     No   \n",
              "2     89.6     Science(PCM)     67.0     87.3          Yes     No   \n",
              "3     90.0    Science(PCMB)     84.0     91.0          Yes    Yes   \n",
              "4     56.0  Arts/Humanities     59.0     75.0           No     No   \n",
              "\n",
              "  GoodIn sports Coding  Patriotism  Com skill Sing dance  Read write  \\\n",
              "0           Yes    Yes         100         80         No           4   \n",
              "1            No     No          75         80         No           4   \n",
              "2            No    Yes          60         80        Yes           4   \n",
              "3            No     No          85         95         No           3   \n",
              "4            No     No          70         80        Yes           4   \n",
              "\n",
              "   Nego skill    Hobby      Career field  \n",
              "0          60   Sports  Defense Services  \n",
              "1          80  Reading           Finance  \n",
              "2          70  singing       Engineering  \n",
              "3          80  Reading       Engineering  \n",
              "4          65  singing       Music/Dance  "
            ],
            "text/html": [
              "\n",
              "  <div id=\"df-d8c3397e-4098-4cd0-b436-ac0dcc1af0cf\" class=\"colab-df-container\">\n",
              "    <div>\n",
              "<style scoped>\n",
              "    .dataframe tbody tr th:only-of-type {\n",
              "        vertical-align: middle;\n",
              "    }\n",
              "\n",
              "    .dataframe tbody tr th {\n",
              "        vertical-align: top;\n",
              "    }\n",
              "\n",
              "    .dataframe thead th {\n",
              "        text-align: right;\n",
              "    }\n",
              "</style>\n",
              "<table border=\"1\" class=\"dataframe\">\n",
              "  <thead>\n",
              "    <tr style=\"text-align: right;\">\n",
              "      <th></th>\n",
              "      <th>Perc 10</th>\n",
              "      <th>Stream</th>\n",
              "      <th>Perc 11</th>\n",
              "      <th>Perc 12</th>\n",
              "      <th>Drawing arts</th>\n",
              "      <th>Sports</th>\n",
              "      <th>GoodIn sports</th>\n",
              "      <th>Coding</th>\n",
              "      <th>Patriotism</th>\n",
              "      <th>Com skill</th>\n",
              "      <th>Sing dance</th>\n",
              "      <th>Read write</th>\n",
              "      <th>Nego skill</th>\n",
              "      <th>Hobby</th>\n",
              "      <th>Career field</th>\n",
              "    </tr>\n",
              "  </thead>\n",
              "  <tbody>\n",
              "    <tr>\n",
              "      <th>0</th>\n",
              "      <td>96.0</td>\n",
              "      <td>Science(PCM)</td>\n",
              "      <td>86.0</td>\n",
              "      <td>90.0</td>\n",
              "      <td>Yes</td>\n",
              "      <td>Yes</td>\n",
              "      <td>Yes</td>\n",
              "      <td>Yes</td>\n",
              "      <td>100</td>\n",
              "      <td>80</td>\n",
              "      <td>No</td>\n",
              "      <td>4</td>\n",
              "      <td>60</td>\n",
              "      <td>Sports</td>\n",
              "      <td>Defense Services</td>\n",
              "    </tr>\n",
              "    <tr>\n",
              "      <th>1</th>\n",
              "      <td>78.0</td>\n",
              "      <td>Commerce</td>\n",
              "      <td>89.0</td>\n",
              "      <td>90.0</td>\n",
              "      <td>Yes</td>\n",
              "      <td>No</td>\n",
              "      <td>No</td>\n",
              "      <td>No</td>\n",
              "      <td>75</td>\n",
              "      <td>80</td>\n",
              "      <td>No</td>\n",
              "      <td>4</td>\n",
              "      <td>80</td>\n",
              "      <td>Reading</td>\n",
              "      <td>Finance</td>\n",
              "    </tr>\n",
              "    <tr>\n",
              "      <th>2</th>\n",
              "      <td>89.6</td>\n",
              "      <td>Science(PCM)</td>\n",
              "      <td>67.0</td>\n",
              "      <td>87.3</td>\n",
              "      <td>Yes</td>\n",
              "      <td>No</td>\n",
              "      <td>No</td>\n",
              "      <td>Yes</td>\n",
              "      <td>60</td>\n",
              "      <td>80</td>\n",
              "      <td>Yes</td>\n",
              "      <td>4</td>\n",
              "      <td>70</td>\n",
              "      <td>singing</td>\n",
              "      <td>Engineering</td>\n",
              "    </tr>\n",
              "    <tr>\n",
              "      <th>3</th>\n",
              "      <td>90.0</td>\n",
              "      <td>Science(PCMB)</td>\n",
              "      <td>84.0</td>\n",
              "      <td>91.0</td>\n",
              "      <td>Yes</td>\n",
              "      <td>Yes</td>\n",
              "      <td>No</td>\n",
              "      <td>No</td>\n",
              "      <td>85</td>\n",
              "      <td>95</td>\n",
              "      <td>No</td>\n",
              "      <td>3</td>\n",
              "      <td>80</td>\n",
              "      <td>Reading</td>\n",
              "      <td>Engineering</td>\n",
              "    </tr>\n",
              "    <tr>\n",
              "      <th>4</th>\n",
              "      <td>56.0</td>\n",
              "      <td>Arts/Humanities</td>\n",
              "      <td>59.0</td>\n",
              "      <td>75.0</td>\n",
              "      <td>No</td>\n",
              "      <td>No</td>\n",
              "      <td>No</td>\n",
              "      <td>No</td>\n",
              "      <td>70</td>\n",
              "      <td>80</td>\n",
              "      <td>Yes</td>\n",
              "      <td>4</td>\n",
              "      <td>65</td>\n",
              "      <td>singing</td>\n",
              "      <td>Music/Dance</td>\n",
              "    </tr>\n",
              "  </tbody>\n",
              "</table>\n",
              "</div>\n",
              "    <div class=\"colab-df-buttons\">\n",
              "\n",
              "  <div class=\"colab-df-container\">\n",
              "    <button class=\"colab-df-convert\" onclick=\"convertToInteractive('df-d8c3397e-4098-4cd0-b436-ac0dcc1af0cf')\"\n",
              "            title=\"Convert this dataframe to an interactive table.\"\n",
              "            style=\"display:none;\">\n",
              "\n",
              "  <svg xmlns=\"http://www.w3.org/2000/svg\" height=\"24px\" viewBox=\"0 -960 960 960\">\n",
              "    <path d=\"M120-120v-720h720v720H120Zm60-500h600v-160H180v160Zm220 220h160v-160H400v160Zm0 220h160v-160H400v160ZM180-400h160v-160H180v160Zm440 0h160v-160H620v160ZM180-180h160v-160H180v160Zm440 0h160v-160H620v160Z\"/>\n",
              "  </svg>\n",
              "    </button>\n",
              "\n",
              "  <style>\n",
              "    .colab-df-container {\n",
              "      display:flex;\n",
              "      gap: 12px;\n",
              "    }\n",
              "\n",
              "    .colab-df-convert {\n",
              "      background-color: #E8F0FE;\n",
              "      border: none;\n",
              "      border-radius: 50%;\n",
              "      cursor: pointer;\n",
              "      display: none;\n",
              "      fill: #1967D2;\n",
              "      height: 32px;\n",
              "      padding: 0 0 0 0;\n",
              "      width: 32px;\n",
              "    }\n",
              "\n",
              "    .colab-df-convert:hover {\n",
              "      background-color: #E2EBFA;\n",
              "      box-shadow: 0px 1px 2px rgba(60, 64, 67, 0.3), 0px 1px 3px 1px rgba(60, 64, 67, 0.15);\n",
              "      fill: #174EA6;\n",
              "    }\n",
              "\n",
              "    .colab-df-buttons div {\n",
              "      margin-bottom: 4px;\n",
              "    }\n",
              "\n",
              "    [theme=dark] .colab-df-convert {\n",
              "      background-color: #3B4455;\n",
              "      fill: #D2E3FC;\n",
              "    }\n",
              "\n",
              "    [theme=dark] .colab-df-convert:hover {\n",
              "      background-color: #434B5C;\n",
              "      box-shadow: 0px 1px 3px 1px rgba(0, 0, 0, 0.15);\n",
              "      filter: drop-shadow(0px 1px 2px rgba(0, 0, 0, 0.3));\n",
              "      fill: #FFFFFF;\n",
              "    }\n",
              "  </style>\n",
              "\n",
              "    <script>\n",
              "      const buttonEl =\n",
              "        document.querySelector('#df-d8c3397e-4098-4cd0-b436-ac0dcc1af0cf button.colab-df-convert');\n",
              "      buttonEl.style.display =\n",
              "        google.colab.kernel.accessAllowed ? 'block' : 'none';\n",
              "\n",
              "      async function convertToInteractive(key) {\n",
              "        const element = document.querySelector('#df-d8c3397e-4098-4cd0-b436-ac0dcc1af0cf');\n",
              "        const dataTable =\n",
              "          await google.colab.kernel.invokeFunction('convertToInteractive',\n",
              "                                                    [key], {});\n",
              "        if (!dataTable) return;\n",
              "\n",
              "        const docLinkHtml = 'Like what you see? Visit the ' +\n",
              "          '<a target=\"_blank\" href=https://colab.research.google.com/notebooks/data_table.ipynb>data table notebook</a>'\n",
              "          + ' to learn more about interactive tables.';\n",
              "        element.innerHTML = '';\n",
              "        dataTable['output_type'] = 'display_data';\n",
              "        await google.colab.output.renderOutput(dataTable, element);\n",
              "        const docLink = document.createElement('div');\n",
              "        docLink.innerHTML = docLinkHtml;\n",
              "        element.appendChild(docLink);\n",
              "      }\n",
              "    </script>\n",
              "  </div>\n",
              "\n",
              "\n",
              "<div id=\"df-8d01ef3d-4a16-48bc-8d41-ac21bc66baa2\">\n",
              "  <button class=\"colab-df-quickchart\" onclick=\"quickchart('df-8d01ef3d-4a16-48bc-8d41-ac21bc66baa2')\"\n",
              "            title=\"Suggest charts\"\n",
              "            style=\"display:none;\">\n",
              "\n",
              "<svg xmlns=\"http://www.w3.org/2000/svg\" height=\"24px\"viewBox=\"0 0 24 24\"\n",
              "     width=\"24px\">\n",
              "    <g>\n",
              "        <path d=\"M19 3H5c-1.1 0-2 .9-2 2v14c0 1.1.9 2 2 2h14c1.1 0 2-.9 2-2V5c0-1.1-.9-2-2-2zM9 17H7v-7h2v7zm4 0h-2V7h2v10zm4 0h-2v-4h2v4z\"/>\n",
              "    </g>\n",
              "</svg>\n",
              "  </button>\n",
              "\n",
              "<style>\n",
              "  .colab-df-quickchart {\n",
              "      --bg-color: #E8F0FE;\n",
              "      --fill-color: #1967D2;\n",
              "      --hover-bg-color: #E2EBFA;\n",
              "      --hover-fill-color: #174EA6;\n",
              "      --disabled-fill-color: #AAA;\n",
              "      --disabled-bg-color: #DDD;\n",
              "  }\n",
              "\n",
              "  [theme=dark] .colab-df-quickchart {\n",
              "      --bg-color: #3B4455;\n",
              "      --fill-color: #D2E3FC;\n",
              "      --hover-bg-color: #434B5C;\n",
              "      --hover-fill-color: #FFFFFF;\n",
              "      --disabled-bg-color: #3B4455;\n",
              "      --disabled-fill-color: #666;\n",
              "  }\n",
              "\n",
              "  .colab-df-quickchart {\n",
              "    background-color: var(--bg-color);\n",
              "    border: none;\n",
              "    border-radius: 50%;\n",
              "    cursor: pointer;\n",
              "    display: none;\n",
              "    fill: var(--fill-color);\n",
              "    height: 32px;\n",
              "    padding: 0;\n",
              "    width: 32px;\n",
              "  }\n",
              "\n",
              "  .colab-df-quickchart:hover {\n",
              "    background-color: var(--hover-bg-color);\n",
              "    box-shadow: 0 1px 2px rgba(60, 64, 67, 0.3), 0 1px 3px 1px rgba(60, 64, 67, 0.15);\n",
              "    fill: var(--button-hover-fill-color);\n",
              "  }\n",
              "\n",
              "  .colab-df-quickchart-complete:disabled,\n",
              "  .colab-df-quickchart-complete:disabled:hover {\n",
              "    background-color: var(--disabled-bg-color);\n",
              "    fill: var(--disabled-fill-color);\n",
              "    box-shadow: none;\n",
              "  }\n",
              "\n",
              "  .colab-df-spinner {\n",
              "    border: 2px solid var(--fill-color);\n",
              "    border-color: transparent;\n",
              "    border-bottom-color: var(--fill-color);\n",
              "    animation:\n",
              "      spin 1s steps(1) infinite;\n",
              "  }\n",
              "\n",
              "  @keyframes spin {\n",
              "    0% {\n",
              "      border-color: transparent;\n",
              "      border-bottom-color: var(--fill-color);\n",
              "      border-left-color: var(--fill-color);\n",
              "    }\n",
              "    20% {\n",
              "      border-color: transparent;\n",
              "      border-left-color: var(--fill-color);\n",
              "      border-top-color: var(--fill-color);\n",
              "    }\n",
              "    30% {\n",
              "      border-color: transparent;\n",
              "      border-left-color: var(--fill-color);\n",
              "      border-top-color: var(--fill-color);\n",
              "      border-right-color: var(--fill-color);\n",
              "    }\n",
              "    40% {\n",
              "      border-color: transparent;\n",
              "      border-right-color: var(--fill-color);\n",
              "      border-top-color: var(--fill-color);\n",
              "    }\n",
              "    60% {\n",
              "      border-color: transparent;\n",
              "      border-right-color: var(--fill-color);\n",
              "    }\n",
              "    80% {\n",
              "      border-color: transparent;\n",
              "      border-right-color: var(--fill-color);\n",
              "      border-bottom-color: var(--fill-color);\n",
              "    }\n",
              "    90% {\n",
              "      border-color: transparent;\n",
              "      border-bottom-color: var(--fill-color);\n",
              "    }\n",
              "  }\n",
              "</style>\n",
              "\n",
              "  <script>\n",
              "    async function quickchart(key) {\n",
              "      const quickchartButtonEl =\n",
              "        document.querySelector('#' + key + ' button');\n",
              "      quickchartButtonEl.disabled = true;  // To prevent multiple clicks.\n",
              "      quickchartButtonEl.classList.add('colab-df-spinner');\n",
              "      try {\n",
              "        const charts = await google.colab.kernel.invokeFunction(\n",
              "            'suggestCharts', [key], {});\n",
              "      } catch (error) {\n",
              "        console.error('Error during call to suggestCharts:', error);\n",
              "      }\n",
              "      quickchartButtonEl.classList.remove('colab-df-spinner');\n",
              "      quickchartButtonEl.classList.add('colab-df-quickchart-complete');\n",
              "    }\n",
              "    (() => {\n",
              "      let quickchartButtonEl =\n",
              "        document.querySelector('#df-8d01ef3d-4a16-48bc-8d41-ac21bc66baa2 button');\n",
              "      quickchartButtonEl.style.display =\n",
              "        google.colab.kernel.accessAllowed ? 'block' : 'none';\n",
              "    })();\n",
              "  </script>\n",
              "</div>\n",
              "\n",
              "    </div>\n",
              "  </div>\n"
            ],
            "application/vnd.google.colaboratory.intrinsic+json": {
              "type": "dataframe",
              "variable_name": "dataset",
              "summary": "{\n  \"name\": \"dataset\",\n  \"rows\": 59,\n  \"fields\": [\n    {\n      \"column\": \"Perc 10\",\n      \"properties\": {\n        \"dtype\": \"number\",\n        \"std\": 11.68403371167551,\n        \"min\": 55.0,\n        \"max\": 100.0,\n        \"num_unique_values\": 35,\n        \"samples\": [\n          94.0,\n          100.0,\n          80.0\n        ],\n        \"semantic_type\": \"\",\n        \"description\": \"\"\n      }\n    },\n    {\n      \"column\": \"Stream\",\n      \"properties\": {\n        \"dtype\": \"category\",\n        \"num_unique_values\": 5,\n        \"samples\": [\n          \"Commerce\",\n          \"Science(PCB)\",\n          \"Science(PCMB)\"\n        ],\n        \"semantic_type\": \"\",\n        \"description\": \"\"\n      }\n    },\n    {\n      \"column\": \"Perc 11\",\n      \"properties\": {\n        \"dtype\": \"number\",\n        \"std\": 10.454222173396285,\n        \"min\": 59.0,\n        \"max\": 98.0,\n        \"num_unique_values\": 34,\n        \"samples\": [\n          78.0,\n          80.0,\n          60.0\n        ],\n        \"semantic_type\": \"\",\n        \"description\": \"\"\n      }\n    },\n    {\n      \"column\": \"Perc 12\",\n      \"properties\": {\n        \"dtype\": \"number\",\n        \"std\": 7.911974903472179,\n        \"min\": 63.0,\n        \"max\": 97.0,\n        \"num_unique_values\": 34,\n        \"samples\": [\n          89.0,\n          95.0,\n          80.0\n        ],\n        \"semantic_type\": \"\",\n        \"description\": \"\"\n      }\n    },\n    {\n      \"column\": \"Drawing arts\",\n      \"properties\": {\n        \"dtype\": \"category\",\n        \"num_unique_values\": 2,\n        \"samples\": [\n          \"No\",\n          \"Yes\"\n        ],\n        \"semantic_type\": \"\",\n        \"description\": \"\"\n      }\n    },\n    {\n      \"column\": \"Sports\",\n      \"properties\": {\n        \"dtype\": \"category\",\n        \"num_unique_values\": 2,\n        \"samples\": [\n          \"No\",\n          \"Yes\"\n        ],\n        \"semantic_type\": \"\",\n        \"description\": \"\"\n      }\n    },\n    {\n      \"column\": \"GoodIn sports\",\n      \"properties\": {\n        \"dtype\": \"category\",\n        \"num_unique_values\": 2,\n        \"samples\": [\n          \"No\",\n          \"Yes\"\n        ],\n        \"semantic_type\": \"\",\n        \"description\": \"\"\n      }\n    },\n    {\n      \"column\": \"Coding\",\n      \"properties\": {\n        \"dtype\": \"category\",\n        \"num_unique_values\": 2,\n        \"samples\": [\n          \"No\",\n          \"Yes\"\n        ],\n        \"semantic_type\": \"\",\n        \"description\": \"\"\n      }\n    },\n    {\n      \"column\": \"Patriotism\",\n      \"properties\": {\n        \"dtype\": \"number\",\n        \"std\": 11,\n        \"min\": 50,\n        \"max\": 100,\n        \"num_unique_values\": 12,\n        \"samples\": [\n          65,\n          90\n        ],\n        \"semantic_type\": \"\",\n        \"description\": \"\"\n      }\n    },\n    {\n      \"column\": \"Com skill\",\n      \"properties\": {\n        \"dtype\": \"number\",\n        \"std\": 17,\n        \"min\": 10,\n        \"max\": 100,\n        \"num_unique_values\": 14,\n        \"samples\": [\n          60,\n          50\n        ],\n        \"semantic_type\": \"\",\n        \"description\": \"\"\n      }\n    },\n    {\n      \"column\": \"Sing dance\",\n      \"properties\": {\n        \"dtype\": \"category\",\n        \"num_unique_values\": 2,\n        \"samples\": [\n          \"Yes\",\n          \"No\"\n        ],\n        \"semantic_type\": \"\",\n        \"description\": \"\"\n      }\n    },\n    {\n      \"column\": \"Read write\",\n      \"properties\": {\n        \"dtype\": \"number\",\n        \"std\": 0,\n        \"min\": 2,\n        \"max\": 5,\n        \"num_unique_values\": 4,\n        \"samples\": [\n          3,\n          5\n        ],\n        \"semantic_type\": \"\",\n        \"description\": \"\"\n      }\n    },\n    {\n      \"column\": \"Nego skill\",\n      \"properties\": {\n        \"dtype\": \"number\",\n        \"std\": 14,\n        \"min\": 30,\n        \"max\": 95,\n        \"num_unique_values\": 13,\n        \"samples\": [\n          88,\n          30\n        ],\n        \"semantic_type\": \"\",\n        \"description\": \"\"\n      }\n    },\n    {\n      \"column\": \"Hobby\",\n      \"properties\": {\n        \"dtype\": \"category\",\n        \"num_unique_values\": 10,\n        \"samples\": [\n          \"Numismatics\",\n          \"Reading\"\n        ],\n        \"semantic_type\": \"\",\n        \"description\": \"\"\n      }\n    },\n    {\n      \"column\": \"Career field\",\n      \"properties\": {\n        \"dtype\": \"category\",\n        \"num_unique_values\": 8,\n        \"samples\": [\n          \"Finance\",\n          \"Marketing\"\n        ],\n        \"semantic_type\": \"\",\n        \"description\": \"\"\n      }\n    }\n  ]\n}"
            }
          },
          "metadata": {},
          "execution_count": 4
        }
      ],
      "source": [
        "file_path = '/content/drive/MyDrive/survey_final.csv'\n",
        "dataset=pd.read_csv(file_path)\n",
        "dataset.head()"
      ]
    },
    {
      "cell_type": "code",
      "execution_count": null,
      "id": "f61e3088",
      "metadata": {
        "id": "f61e3088"
      },
      "outputs": [],
      "source": [
        "dataset.columns=[c.replace(' ', '_') for c in dataset.columns]"
      ]
    },
    {
      "cell_type": "code",
      "execution_count": null,
      "id": "737d15cb",
      "metadata": {
        "id": "737d15cb",
        "outputId": "d753ec6b-d51e-4a77-efd4-a47e2215c16a",
        "colab": {
          "base_uri": "https://localhost:8080/"
        }
      },
      "outputs": [
        {
          "output_type": "stream",
          "name": "stdout",
          "text": [
            "<class 'pandas.core.frame.DataFrame'>\n",
            "RangeIndex: 59 entries, 0 to 58\n",
            "Data columns (total 15 columns):\n",
            " #   Column         Non-Null Count  Dtype  \n",
            "---  ------         --------------  -----  \n",
            " 0   Perc_10        59 non-null     float64\n",
            " 1   Stream         59 non-null     object \n",
            " 2   Perc_11        59 non-null     float64\n",
            " 3   Perc_12        59 non-null     float64\n",
            " 4   Drawing_arts   59 non-null     object \n",
            " 5   Sports         59 non-null     object \n",
            " 6   GoodIn_sports  59 non-null     object \n",
            " 7   Coding         59 non-null     object \n",
            " 8   Patriotism     59 non-null     int64  \n",
            " 9   Com_skill      59 non-null     int64  \n",
            " 10  Sing_dance     59 non-null     object \n",
            " 11  Read_write     59 non-null     int64  \n",
            " 12  Nego_skill     59 non-null     int64  \n",
            " 13  Hobby          59 non-null     object \n",
            " 14  Career_field   59 non-null     object \n",
            "dtypes: float64(3), int64(4), object(8)\n",
            "memory usage: 7.0+ KB\n"
          ]
        }
      ],
      "source": [
        "dataset.info()"
      ]
    },
    {
      "cell_type": "code",
      "execution_count": null,
      "id": "f412d496",
      "metadata": {
        "id": "f412d496"
      },
      "outputs": [],
      "source": [
        "df=dataset"
      ]
    },
    {
      "cell_type": "markdown",
      "id": "b9079b05",
      "metadata": {
        "id": "b9079b05"
      },
      "source": [
        "### One hot encoding"
      ]
    },
    {
      "cell_type": "code",
      "execution_count": null,
      "id": "9a013975",
      "metadata": {
        "id": "9a013975"
      },
      "outputs": [],
      "source": [
        "from sklearn.preprocessing import OneHotEncoder\n",
        "enc=OneHotEncoder()"
      ]
    },
    {
      "cell_type": "code",
      "execution_count": null,
      "id": "923185d3",
      "metadata": {
        "id": "923185d3"
      },
      "outputs": [],
      "source": [
        "#for Stream\n",
        "names=df.Stream.unique()\n",
        "names.sort()\n",
        "X = enc.fit_transform(df.Stream.values.reshape(-1,1)).toarray()\n",
        "dfOneHot = pd.DataFrame(X, columns = [\"Stream_\"+str(i) for i in names])\n",
        "data = pd.concat([df, dfOneHot], axis=1)\n",
        "#droping the column\n",
        "data= data.drop(['Stream'], axis=1)\n",
        "#data.head()\n",
        "df=data"
      ]
    },
    {
      "cell_type": "code",
      "execution_count": null,
      "id": "b7030d42",
      "metadata": {
        "id": "b7030d42"
      },
      "outputs": [],
      "source": [
        "#for Hobby\n",
        "names=df.Hobby.unique()\n",
        "names.sort()\n",
        "X = enc.fit_transform(df.Hobby.values.reshape(-1,1)).toarray()\n",
        "dfOneHot = pd.DataFrame(X, columns = [\"Hobby_\"+str(i) for i in names])\n",
        "data = pd.concat([df, dfOneHot], axis=1)\n",
        "#droping the column\n",
        "data= data.drop(['Hobby'], axis=1)\n",
        "#data.head()\n",
        "df=data"
      ]
    },
    {
      "cell_type": "code",
      "execution_count": null,
      "id": "fac5a413",
      "metadata": {
        "id": "fac5a413"
      },
      "outputs": [],
      "source": [
        "#for Drawing__arts,Sports,coding,sing_dance\n",
        "tags={'Yes':1,\n",
        "   'No':0}\n",
        "df=df.replace({'Drawing_arts':tags,'Sports':tags,'GoodIn_sports':tags,'Coding':tags,'Sing_dance':tags})"
      ]
    },
    {
      "cell_type": "code",
      "execution_count": null,
      "id": "d8d640df",
      "metadata": {
        "scrolled": true,
        "colab": {
          "base_uri": "https://localhost:8080/",
          "height": 273
        },
        "id": "d8d640df",
        "outputId": "7a4d99ec-f121-4654-efda-a305a5af9ac8"
      },
      "outputs": [
        {
          "output_type": "execute_result",
          "data": {
            "text/plain": [
              "   Perc_10  Perc_11  Perc_12  Drawing_arts  Sports  GoodIn_sports  Coding  \\\n",
              "0     96.0     86.0     90.0             1       1              1       1   \n",
              "1     78.0     89.0     90.0             1       0              0       0   \n",
              "2     89.6     67.0     87.3             1       0              0       1   \n",
              "3     90.0     84.0     91.0             1       1              0       0   \n",
              "4     56.0     59.0     75.0             0       0              0       0   \n",
              "\n",
              "   Patriotism  Com_skill  Sing_dance  ...  Hobby_Biking  Hobby_Coding  \\\n",
              "0         100         80           0  ...           0.0           0.0   \n",
              "1          75         80           0  ...           0.0           0.0   \n",
              "2          60         80           1  ...           0.0           0.0   \n",
              "3          85         95           0  ...           0.0           0.0   \n",
              "4          70         80           1  ...           0.0           0.0   \n",
              "\n",
              "  Hobby_Dancing  Hobby_Drawing  Hobby_Helping nature  Hobby_Numismatics  \\\n",
              "0           0.0            0.0                   0.0                0.0   \n",
              "1           0.0            0.0                   0.0                0.0   \n",
              "2           0.0            0.0                   0.0                0.0   \n",
              "3           0.0            0.0                   0.0                0.0   \n",
              "4           0.0            0.0                   0.0                0.0   \n",
              "\n",
              "   Hobby_Playing Video games  Hobby_Reading  Hobby_Sports  Hobby_singing  \n",
              "0                        0.0            0.0           1.0            0.0  \n",
              "1                        0.0            1.0           0.0            0.0  \n",
              "2                        0.0            0.0           0.0            1.0  \n",
              "3                        0.0            1.0           0.0            0.0  \n",
              "4                        0.0            0.0           0.0            1.0  \n",
              "\n",
              "[5 rows x 28 columns]"
            ],
            "text/html": [
              "\n",
              "  <div id=\"df-c723ede8-dceb-491b-8b1f-3b069c885cb6\" class=\"colab-df-container\">\n",
              "    <div>\n",
              "<style scoped>\n",
              "    .dataframe tbody tr th:only-of-type {\n",
              "        vertical-align: middle;\n",
              "    }\n",
              "\n",
              "    .dataframe tbody tr th {\n",
              "        vertical-align: top;\n",
              "    }\n",
              "\n",
              "    .dataframe thead th {\n",
              "        text-align: right;\n",
              "    }\n",
              "</style>\n",
              "<table border=\"1\" class=\"dataframe\">\n",
              "  <thead>\n",
              "    <tr style=\"text-align: right;\">\n",
              "      <th></th>\n",
              "      <th>Perc_10</th>\n",
              "      <th>Perc_11</th>\n",
              "      <th>Perc_12</th>\n",
              "      <th>Drawing_arts</th>\n",
              "      <th>Sports</th>\n",
              "      <th>GoodIn_sports</th>\n",
              "      <th>Coding</th>\n",
              "      <th>Patriotism</th>\n",
              "      <th>Com_skill</th>\n",
              "      <th>Sing_dance</th>\n",
              "      <th>...</th>\n",
              "      <th>Hobby_Biking</th>\n",
              "      <th>Hobby_Coding</th>\n",
              "      <th>Hobby_Dancing</th>\n",
              "      <th>Hobby_Drawing</th>\n",
              "      <th>Hobby_Helping nature</th>\n",
              "      <th>Hobby_Numismatics</th>\n",
              "      <th>Hobby_Playing Video games</th>\n",
              "      <th>Hobby_Reading</th>\n",
              "      <th>Hobby_Sports</th>\n",
              "      <th>Hobby_singing</th>\n",
              "    </tr>\n",
              "  </thead>\n",
              "  <tbody>\n",
              "    <tr>\n",
              "      <th>0</th>\n",
              "      <td>96.0</td>\n",
              "      <td>86.0</td>\n",
              "      <td>90.0</td>\n",
              "      <td>1</td>\n",
              "      <td>1</td>\n",
              "      <td>1</td>\n",
              "      <td>1</td>\n",
              "      <td>100</td>\n",
              "      <td>80</td>\n",
              "      <td>0</td>\n",
              "      <td>...</td>\n",
              "      <td>0.0</td>\n",
              "      <td>0.0</td>\n",
              "      <td>0.0</td>\n",
              "      <td>0.0</td>\n",
              "      <td>0.0</td>\n",
              "      <td>0.0</td>\n",
              "      <td>0.0</td>\n",
              "      <td>0.0</td>\n",
              "      <td>1.0</td>\n",
              "      <td>0.0</td>\n",
              "    </tr>\n",
              "    <tr>\n",
              "      <th>1</th>\n",
              "      <td>78.0</td>\n",
              "      <td>89.0</td>\n",
              "      <td>90.0</td>\n",
              "      <td>1</td>\n",
              "      <td>0</td>\n",
              "      <td>0</td>\n",
              "      <td>0</td>\n",
              "      <td>75</td>\n",
              "      <td>80</td>\n",
              "      <td>0</td>\n",
              "      <td>...</td>\n",
              "      <td>0.0</td>\n",
              "      <td>0.0</td>\n",
              "      <td>0.0</td>\n",
              "      <td>0.0</td>\n",
              "      <td>0.0</td>\n",
              "      <td>0.0</td>\n",
              "      <td>0.0</td>\n",
              "      <td>1.0</td>\n",
              "      <td>0.0</td>\n",
              "      <td>0.0</td>\n",
              "    </tr>\n",
              "    <tr>\n",
              "      <th>2</th>\n",
              "      <td>89.6</td>\n",
              "      <td>67.0</td>\n",
              "      <td>87.3</td>\n",
              "      <td>1</td>\n",
              "      <td>0</td>\n",
              "      <td>0</td>\n",
              "      <td>1</td>\n",
              "      <td>60</td>\n",
              "      <td>80</td>\n",
              "      <td>1</td>\n",
              "      <td>...</td>\n",
              "      <td>0.0</td>\n",
              "      <td>0.0</td>\n",
              "      <td>0.0</td>\n",
              "      <td>0.0</td>\n",
              "      <td>0.0</td>\n",
              "      <td>0.0</td>\n",
              "      <td>0.0</td>\n",
              "      <td>0.0</td>\n",
              "      <td>0.0</td>\n",
              "      <td>1.0</td>\n",
              "    </tr>\n",
              "    <tr>\n",
              "      <th>3</th>\n",
              "      <td>90.0</td>\n",
              "      <td>84.0</td>\n",
              "      <td>91.0</td>\n",
              "      <td>1</td>\n",
              "      <td>1</td>\n",
              "      <td>0</td>\n",
              "      <td>0</td>\n",
              "      <td>85</td>\n",
              "      <td>95</td>\n",
              "      <td>0</td>\n",
              "      <td>...</td>\n",
              "      <td>0.0</td>\n",
              "      <td>0.0</td>\n",
              "      <td>0.0</td>\n",
              "      <td>0.0</td>\n",
              "      <td>0.0</td>\n",
              "      <td>0.0</td>\n",
              "      <td>0.0</td>\n",
              "      <td>1.0</td>\n",
              "      <td>0.0</td>\n",
              "      <td>0.0</td>\n",
              "    </tr>\n",
              "    <tr>\n",
              "      <th>4</th>\n",
              "      <td>56.0</td>\n",
              "      <td>59.0</td>\n",
              "      <td>75.0</td>\n",
              "      <td>0</td>\n",
              "      <td>0</td>\n",
              "      <td>0</td>\n",
              "      <td>0</td>\n",
              "      <td>70</td>\n",
              "      <td>80</td>\n",
              "      <td>1</td>\n",
              "      <td>...</td>\n",
              "      <td>0.0</td>\n",
              "      <td>0.0</td>\n",
              "      <td>0.0</td>\n",
              "      <td>0.0</td>\n",
              "      <td>0.0</td>\n",
              "      <td>0.0</td>\n",
              "      <td>0.0</td>\n",
              "      <td>0.0</td>\n",
              "      <td>0.0</td>\n",
              "      <td>1.0</td>\n",
              "    </tr>\n",
              "  </tbody>\n",
              "</table>\n",
              "<p>5 rows × 28 columns</p>\n",
              "</div>\n",
              "    <div class=\"colab-df-buttons\">\n",
              "\n",
              "  <div class=\"colab-df-container\">\n",
              "    <button class=\"colab-df-convert\" onclick=\"convertToInteractive('df-c723ede8-dceb-491b-8b1f-3b069c885cb6')\"\n",
              "            title=\"Convert this dataframe to an interactive table.\"\n",
              "            style=\"display:none;\">\n",
              "\n",
              "  <svg xmlns=\"http://www.w3.org/2000/svg\" height=\"24px\" viewBox=\"0 -960 960 960\">\n",
              "    <path d=\"M120-120v-720h720v720H120Zm60-500h600v-160H180v160Zm220 220h160v-160H400v160Zm0 220h160v-160H400v160ZM180-400h160v-160H180v160Zm440 0h160v-160H620v160ZM180-180h160v-160H180v160Zm440 0h160v-160H620v160Z\"/>\n",
              "  </svg>\n",
              "    </button>\n",
              "\n",
              "  <style>\n",
              "    .colab-df-container {\n",
              "      display:flex;\n",
              "      gap: 12px;\n",
              "    }\n",
              "\n",
              "    .colab-df-convert {\n",
              "      background-color: #E8F0FE;\n",
              "      border: none;\n",
              "      border-radius: 50%;\n",
              "      cursor: pointer;\n",
              "      display: none;\n",
              "      fill: #1967D2;\n",
              "      height: 32px;\n",
              "      padding: 0 0 0 0;\n",
              "      width: 32px;\n",
              "    }\n",
              "\n",
              "    .colab-df-convert:hover {\n",
              "      background-color: #E2EBFA;\n",
              "      box-shadow: 0px 1px 2px rgba(60, 64, 67, 0.3), 0px 1px 3px 1px rgba(60, 64, 67, 0.15);\n",
              "      fill: #174EA6;\n",
              "    }\n",
              "\n",
              "    .colab-df-buttons div {\n",
              "      margin-bottom: 4px;\n",
              "    }\n",
              "\n",
              "    [theme=dark] .colab-df-convert {\n",
              "      background-color: #3B4455;\n",
              "      fill: #D2E3FC;\n",
              "    }\n",
              "\n",
              "    [theme=dark] .colab-df-convert:hover {\n",
              "      background-color: #434B5C;\n",
              "      box-shadow: 0px 1px 3px 1px rgba(0, 0, 0, 0.15);\n",
              "      filter: drop-shadow(0px 1px 2px rgba(0, 0, 0, 0.3));\n",
              "      fill: #FFFFFF;\n",
              "    }\n",
              "  </style>\n",
              "\n",
              "    <script>\n",
              "      const buttonEl =\n",
              "        document.querySelector('#df-c723ede8-dceb-491b-8b1f-3b069c885cb6 button.colab-df-convert');\n",
              "      buttonEl.style.display =\n",
              "        google.colab.kernel.accessAllowed ? 'block' : 'none';\n",
              "\n",
              "      async function convertToInteractive(key) {\n",
              "        const element = document.querySelector('#df-c723ede8-dceb-491b-8b1f-3b069c885cb6');\n",
              "        const dataTable =\n",
              "          await google.colab.kernel.invokeFunction('convertToInteractive',\n",
              "                                                    [key], {});\n",
              "        if (!dataTable) return;\n",
              "\n",
              "        const docLinkHtml = 'Like what you see? Visit the ' +\n",
              "          '<a target=\"_blank\" href=https://colab.research.google.com/notebooks/data_table.ipynb>data table notebook</a>'\n",
              "          + ' to learn more about interactive tables.';\n",
              "        element.innerHTML = '';\n",
              "        dataTable['output_type'] = 'display_data';\n",
              "        await google.colab.output.renderOutput(dataTable, element);\n",
              "        const docLink = document.createElement('div');\n",
              "        docLink.innerHTML = docLinkHtml;\n",
              "        element.appendChild(docLink);\n",
              "      }\n",
              "    </script>\n",
              "  </div>\n",
              "\n",
              "\n",
              "<div id=\"df-1f0ea323-fc4c-43b4-af1e-3ebf6d102d41\">\n",
              "  <button class=\"colab-df-quickchart\" onclick=\"quickchart('df-1f0ea323-fc4c-43b4-af1e-3ebf6d102d41')\"\n",
              "            title=\"Suggest charts\"\n",
              "            style=\"display:none;\">\n",
              "\n",
              "<svg xmlns=\"http://www.w3.org/2000/svg\" height=\"24px\"viewBox=\"0 0 24 24\"\n",
              "     width=\"24px\">\n",
              "    <g>\n",
              "        <path d=\"M19 3H5c-1.1 0-2 .9-2 2v14c0 1.1.9 2 2 2h14c1.1 0 2-.9 2-2V5c0-1.1-.9-2-2-2zM9 17H7v-7h2v7zm4 0h-2V7h2v10zm4 0h-2v-4h2v4z\"/>\n",
              "    </g>\n",
              "</svg>\n",
              "  </button>\n",
              "\n",
              "<style>\n",
              "  .colab-df-quickchart {\n",
              "      --bg-color: #E8F0FE;\n",
              "      --fill-color: #1967D2;\n",
              "      --hover-bg-color: #E2EBFA;\n",
              "      --hover-fill-color: #174EA6;\n",
              "      --disabled-fill-color: #AAA;\n",
              "      --disabled-bg-color: #DDD;\n",
              "  }\n",
              "\n",
              "  [theme=dark] .colab-df-quickchart {\n",
              "      --bg-color: #3B4455;\n",
              "      --fill-color: #D2E3FC;\n",
              "      --hover-bg-color: #434B5C;\n",
              "      --hover-fill-color: #FFFFFF;\n",
              "      --disabled-bg-color: #3B4455;\n",
              "      --disabled-fill-color: #666;\n",
              "  }\n",
              "\n",
              "  .colab-df-quickchart {\n",
              "    background-color: var(--bg-color);\n",
              "    border: none;\n",
              "    border-radius: 50%;\n",
              "    cursor: pointer;\n",
              "    display: none;\n",
              "    fill: var(--fill-color);\n",
              "    height: 32px;\n",
              "    padding: 0;\n",
              "    width: 32px;\n",
              "  }\n",
              "\n",
              "  .colab-df-quickchart:hover {\n",
              "    background-color: var(--hover-bg-color);\n",
              "    box-shadow: 0 1px 2px rgba(60, 64, 67, 0.3), 0 1px 3px 1px rgba(60, 64, 67, 0.15);\n",
              "    fill: var(--button-hover-fill-color);\n",
              "  }\n",
              "\n",
              "  .colab-df-quickchart-complete:disabled,\n",
              "  .colab-df-quickchart-complete:disabled:hover {\n",
              "    background-color: var(--disabled-bg-color);\n",
              "    fill: var(--disabled-fill-color);\n",
              "    box-shadow: none;\n",
              "  }\n",
              "\n",
              "  .colab-df-spinner {\n",
              "    border: 2px solid var(--fill-color);\n",
              "    border-color: transparent;\n",
              "    border-bottom-color: var(--fill-color);\n",
              "    animation:\n",
              "      spin 1s steps(1) infinite;\n",
              "  }\n",
              "\n",
              "  @keyframes spin {\n",
              "    0% {\n",
              "      border-color: transparent;\n",
              "      border-bottom-color: var(--fill-color);\n",
              "      border-left-color: var(--fill-color);\n",
              "    }\n",
              "    20% {\n",
              "      border-color: transparent;\n",
              "      border-left-color: var(--fill-color);\n",
              "      border-top-color: var(--fill-color);\n",
              "    }\n",
              "    30% {\n",
              "      border-color: transparent;\n",
              "      border-left-color: var(--fill-color);\n",
              "      border-top-color: var(--fill-color);\n",
              "      border-right-color: var(--fill-color);\n",
              "    }\n",
              "    40% {\n",
              "      border-color: transparent;\n",
              "      border-right-color: var(--fill-color);\n",
              "      border-top-color: var(--fill-color);\n",
              "    }\n",
              "    60% {\n",
              "      border-color: transparent;\n",
              "      border-right-color: var(--fill-color);\n",
              "    }\n",
              "    80% {\n",
              "      border-color: transparent;\n",
              "      border-right-color: var(--fill-color);\n",
              "      border-bottom-color: var(--fill-color);\n",
              "    }\n",
              "    90% {\n",
              "      border-color: transparent;\n",
              "      border-bottom-color: var(--fill-color);\n",
              "    }\n",
              "  }\n",
              "</style>\n",
              "\n",
              "  <script>\n",
              "    async function quickchart(key) {\n",
              "      const quickchartButtonEl =\n",
              "        document.querySelector('#' + key + ' button');\n",
              "      quickchartButtonEl.disabled = true;  // To prevent multiple clicks.\n",
              "      quickchartButtonEl.classList.add('colab-df-spinner');\n",
              "      try {\n",
              "        const charts = await google.colab.kernel.invokeFunction(\n",
              "            'suggestCharts', [key], {});\n",
              "      } catch (error) {\n",
              "        console.error('Error during call to suggestCharts:', error);\n",
              "      }\n",
              "      quickchartButtonEl.classList.remove('colab-df-spinner');\n",
              "      quickchartButtonEl.classList.add('colab-df-quickchart-complete');\n",
              "    }\n",
              "    (() => {\n",
              "      let quickchartButtonEl =\n",
              "        document.querySelector('#df-1f0ea323-fc4c-43b4-af1e-3ebf6d102d41 button');\n",
              "      quickchartButtonEl.style.display =\n",
              "        google.colab.kernel.accessAllowed ? 'block' : 'none';\n",
              "    })();\n",
              "  </script>\n",
              "</div>\n",
              "\n",
              "    </div>\n",
              "  </div>\n"
            ],
            "application/vnd.google.colaboratory.intrinsic+json": {
              "type": "dataframe",
              "variable_name": "df"
            }
          },
          "metadata": {},
          "execution_count": 12
        }
      ],
      "source": [
        "df.head()"
      ]
    },
    {
      "cell_type": "markdown",
      "id": "fb117428",
      "metadata": {
        "id": "fb117428"
      },
      "source": [
        "### Train test split"
      ]
    },
    {
      "cell_type": "code",
      "execution_count": null,
      "id": "7f9815b6",
      "metadata": {
        "id": "7f9815b6"
      },
      "outputs": [],
      "source": [
        "x=df.iloc[:,df.columns!='Career_field']\n",
        "y=df.Career_field"
      ]
    },
    {
      "cell_type": "code",
      "execution_count": null,
      "id": "065e7f39",
      "metadata": {
        "colab": {
          "base_uri": "https://localhost:8080/",
          "height": 273
        },
        "id": "065e7f39",
        "outputId": "495324fb-4b1a-4325-d51d-a2e3ef35cea2"
      },
      "outputs": [
        {
          "output_type": "execute_result",
          "data": {
            "text/plain": [
              "   Perc_10  Perc_11  Perc_12  Drawing_arts  Sports  GoodIn_sports  Coding  \\\n",
              "0     96.0     86.0     90.0             1       1              1       1   \n",
              "1     78.0     89.0     90.0             1       0              0       0   \n",
              "2     89.6     67.0     87.3             1       0              0       1   \n",
              "3     90.0     84.0     91.0             1       1              0       0   \n",
              "4     56.0     59.0     75.0             0       0              0       0   \n",
              "\n",
              "   Patriotism  Com_skill  Sing_dance  ...  Hobby_Biking  Hobby_Coding  \\\n",
              "0         100         80           0  ...           0.0           0.0   \n",
              "1          75         80           0  ...           0.0           0.0   \n",
              "2          60         80           1  ...           0.0           0.0   \n",
              "3          85         95           0  ...           0.0           0.0   \n",
              "4          70         80           1  ...           0.0           0.0   \n",
              "\n",
              "   Hobby_Dancing  Hobby_Drawing  Hobby_Helping nature  Hobby_Numismatics  \\\n",
              "0            0.0            0.0                   0.0                0.0   \n",
              "1            0.0            0.0                   0.0                0.0   \n",
              "2            0.0            0.0                   0.0                0.0   \n",
              "3            0.0            0.0                   0.0                0.0   \n",
              "4            0.0            0.0                   0.0                0.0   \n",
              "\n",
              "   Hobby_Playing Video games  Hobby_Reading  Hobby_Sports  Hobby_singing  \n",
              "0                        0.0            0.0           1.0            0.0  \n",
              "1                        0.0            1.0           0.0            0.0  \n",
              "2                        0.0            0.0           0.0            1.0  \n",
              "3                        0.0            1.0           0.0            0.0  \n",
              "4                        0.0            0.0           0.0            1.0  \n",
              "\n",
              "[5 rows x 27 columns]"
            ],
            "text/html": [
              "\n",
              "  <div id=\"df-1b0ac80a-7c6d-4609-89a3-960bbe55c005\" class=\"colab-df-container\">\n",
              "    <div>\n",
              "<style scoped>\n",
              "    .dataframe tbody tr th:only-of-type {\n",
              "        vertical-align: middle;\n",
              "    }\n",
              "\n",
              "    .dataframe tbody tr th {\n",
              "        vertical-align: top;\n",
              "    }\n",
              "\n",
              "    .dataframe thead th {\n",
              "        text-align: right;\n",
              "    }\n",
              "</style>\n",
              "<table border=\"1\" class=\"dataframe\">\n",
              "  <thead>\n",
              "    <tr style=\"text-align: right;\">\n",
              "      <th></th>\n",
              "      <th>Perc_10</th>\n",
              "      <th>Perc_11</th>\n",
              "      <th>Perc_12</th>\n",
              "      <th>Drawing_arts</th>\n",
              "      <th>Sports</th>\n",
              "      <th>GoodIn_sports</th>\n",
              "      <th>Coding</th>\n",
              "      <th>Patriotism</th>\n",
              "      <th>Com_skill</th>\n",
              "      <th>Sing_dance</th>\n",
              "      <th>...</th>\n",
              "      <th>Hobby_Biking</th>\n",
              "      <th>Hobby_Coding</th>\n",
              "      <th>Hobby_Dancing</th>\n",
              "      <th>Hobby_Drawing</th>\n",
              "      <th>Hobby_Helping nature</th>\n",
              "      <th>Hobby_Numismatics</th>\n",
              "      <th>Hobby_Playing Video games</th>\n",
              "      <th>Hobby_Reading</th>\n",
              "      <th>Hobby_Sports</th>\n",
              "      <th>Hobby_singing</th>\n",
              "    </tr>\n",
              "  </thead>\n",
              "  <tbody>\n",
              "    <tr>\n",
              "      <th>0</th>\n",
              "      <td>96.0</td>\n",
              "      <td>86.0</td>\n",
              "      <td>90.0</td>\n",
              "      <td>1</td>\n",
              "      <td>1</td>\n",
              "      <td>1</td>\n",
              "      <td>1</td>\n",
              "      <td>100</td>\n",
              "      <td>80</td>\n",
              "      <td>0</td>\n",
              "      <td>...</td>\n",
              "      <td>0.0</td>\n",
              "      <td>0.0</td>\n",
              "      <td>0.0</td>\n",
              "      <td>0.0</td>\n",
              "      <td>0.0</td>\n",
              "      <td>0.0</td>\n",
              "      <td>0.0</td>\n",
              "      <td>0.0</td>\n",
              "      <td>1.0</td>\n",
              "      <td>0.0</td>\n",
              "    </tr>\n",
              "    <tr>\n",
              "      <th>1</th>\n",
              "      <td>78.0</td>\n",
              "      <td>89.0</td>\n",
              "      <td>90.0</td>\n",
              "      <td>1</td>\n",
              "      <td>0</td>\n",
              "      <td>0</td>\n",
              "      <td>0</td>\n",
              "      <td>75</td>\n",
              "      <td>80</td>\n",
              "      <td>0</td>\n",
              "      <td>...</td>\n",
              "      <td>0.0</td>\n",
              "      <td>0.0</td>\n",
              "      <td>0.0</td>\n",
              "      <td>0.0</td>\n",
              "      <td>0.0</td>\n",
              "      <td>0.0</td>\n",
              "      <td>0.0</td>\n",
              "      <td>1.0</td>\n",
              "      <td>0.0</td>\n",
              "      <td>0.0</td>\n",
              "    </tr>\n",
              "    <tr>\n",
              "      <th>2</th>\n",
              "      <td>89.6</td>\n",
              "      <td>67.0</td>\n",
              "      <td>87.3</td>\n",
              "      <td>1</td>\n",
              "      <td>0</td>\n",
              "      <td>0</td>\n",
              "      <td>1</td>\n",
              "      <td>60</td>\n",
              "      <td>80</td>\n",
              "      <td>1</td>\n",
              "      <td>...</td>\n",
              "      <td>0.0</td>\n",
              "      <td>0.0</td>\n",
              "      <td>0.0</td>\n",
              "      <td>0.0</td>\n",
              "      <td>0.0</td>\n",
              "      <td>0.0</td>\n",
              "      <td>0.0</td>\n",
              "      <td>0.0</td>\n",
              "      <td>0.0</td>\n",
              "      <td>1.0</td>\n",
              "    </tr>\n",
              "    <tr>\n",
              "      <th>3</th>\n",
              "      <td>90.0</td>\n",
              "      <td>84.0</td>\n",
              "      <td>91.0</td>\n",
              "      <td>1</td>\n",
              "      <td>1</td>\n",
              "      <td>0</td>\n",
              "      <td>0</td>\n",
              "      <td>85</td>\n",
              "      <td>95</td>\n",
              "      <td>0</td>\n",
              "      <td>...</td>\n",
              "      <td>0.0</td>\n",
              "      <td>0.0</td>\n",
              "      <td>0.0</td>\n",
              "      <td>0.0</td>\n",
              "      <td>0.0</td>\n",
              "      <td>0.0</td>\n",
              "      <td>0.0</td>\n",
              "      <td>1.0</td>\n",
              "      <td>0.0</td>\n",
              "      <td>0.0</td>\n",
              "    </tr>\n",
              "    <tr>\n",
              "      <th>4</th>\n",
              "      <td>56.0</td>\n",
              "      <td>59.0</td>\n",
              "      <td>75.0</td>\n",
              "      <td>0</td>\n",
              "      <td>0</td>\n",
              "      <td>0</td>\n",
              "      <td>0</td>\n",
              "      <td>70</td>\n",
              "      <td>80</td>\n",
              "      <td>1</td>\n",
              "      <td>...</td>\n",
              "      <td>0.0</td>\n",
              "      <td>0.0</td>\n",
              "      <td>0.0</td>\n",
              "      <td>0.0</td>\n",
              "      <td>0.0</td>\n",
              "      <td>0.0</td>\n",
              "      <td>0.0</td>\n",
              "      <td>0.0</td>\n",
              "      <td>0.0</td>\n",
              "      <td>1.0</td>\n",
              "    </tr>\n",
              "  </tbody>\n",
              "</table>\n",
              "<p>5 rows × 27 columns</p>\n",
              "</div>\n",
              "    <div class=\"colab-df-buttons\">\n",
              "\n",
              "  <div class=\"colab-df-container\">\n",
              "    <button class=\"colab-df-convert\" onclick=\"convertToInteractive('df-1b0ac80a-7c6d-4609-89a3-960bbe55c005')\"\n",
              "            title=\"Convert this dataframe to an interactive table.\"\n",
              "            style=\"display:none;\">\n",
              "\n",
              "  <svg xmlns=\"http://www.w3.org/2000/svg\" height=\"24px\" viewBox=\"0 -960 960 960\">\n",
              "    <path d=\"M120-120v-720h720v720H120Zm60-500h600v-160H180v160Zm220 220h160v-160H400v160Zm0 220h160v-160H400v160ZM180-400h160v-160H180v160Zm440 0h160v-160H620v160ZM180-180h160v-160H180v160Zm440 0h160v-160H620v160Z\"/>\n",
              "  </svg>\n",
              "    </button>\n",
              "\n",
              "  <style>\n",
              "    .colab-df-container {\n",
              "      display:flex;\n",
              "      gap: 12px;\n",
              "    }\n",
              "\n",
              "    .colab-df-convert {\n",
              "      background-color: #E8F0FE;\n",
              "      border: none;\n",
              "      border-radius: 50%;\n",
              "      cursor: pointer;\n",
              "      display: none;\n",
              "      fill: #1967D2;\n",
              "      height: 32px;\n",
              "      padding: 0 0 0 0;\n",
              "      width: 32px;\n",
              "    }\n",
              "\n",
              "    .colab-df-convert:hover {\n",
              "      background-color: #E2EBFA;\n",
              "      box-shadow: 0px 1px 2px rgba(60, 64, 67, 0.3), 0px 1px 3px 1px rgba(60, 64, 67, 0.15);\n",
              "      fill: #174EA6;\n",
              "    }\n",
              "\n",
              "    .colab-df-buttons div {\n",
              "      margin-bottom: 4px;\n",
              "    }\n",
              "\n",
              "    [theme=dark] .colab-df-convert {\n",
              "      background-color: #3B4455;\n",
              "      fill: #D2E3FC;\n",
              "    }\n",
              "\n",
              "    [theme=dark] .colab-df-convert:hover {\n",
              "      background-color: #434B5C;\n",
              "      box-shadow: 0px 1px 3px 1px rgba(0, 0, 0, 0.15);\n",
              "      filter: drop-shadow(0px 1px 2px rgba(0, 0, 0, 0.3));\n",
              "      fill: #FFFFFF;\n",
              "    }\n",
              "  </style>\n",
              "\n",
              "    <script>\n",
              "      const buttonEl =\n",
              "        document.querySelector('#df-1b0ac80a-7c6d-4609-89a3-960bbe55c005 button.colab-df-convert');\n",
              "      buttonEl.style.display =\n",
              "        google.colab.kernel.accessAllowed ? 'block' : 'none';\n",
              "\n",
              "      async function convertToInteractive(key) {\n",
              "        const element = document.querySelector('#df-1b0ac80a-7c6d-4609-89a3-960bbe55c005');\n",
              "        const dataTable =\n",
              "          await google.colab.kernel.invokeFunction('convertToInteractive',\n",
              "                                                    [key], {});\n",
              "        if (!dataTable) return;\n",
              "\n",
              "        const docLinkHtml = 'Like what you see? Visit the ' +\n",
              "          '<a target=\"_blank\" href=https://colab.research.google.com/notebooks/data_table.ipynb>data table notebook</a>'\n",
              "          + ' to learn more about interactive tables.';\n",
              "        element.innerHTML = '';\n",
              "        dataTable['output_type'] = 'display_data';\n",
              "        await google.colab.output.renderOutput(dataTable, element);\n",
              "        const docLink = document.createElement('div');\n",
              "        docLink.innerHTML = docLinkHtml;\n",
              "        element.appendChild(docLink);\n",
              "      }\n",
              "    </script>\n",
              "  </div>\n",
              "\n",
              "\n",
              "<div id=\"df-7f354d86-572c-4f87-b907-a01629459a97\">\n",
              "  <button class=\"colab-df-quickchart\" onclick=\"quickchart('df-7f354d86-572c-4f87-b907-a01629459a97')\"\n",
              "            title=\"Suggest charts\"\n",
              "            style=\"display:none;\">\n",
              "\n",
              "<svg xmlns=\"http://www.w3.org/2000/svg\" height=\"24px\"viewBox=\"0 0 24 24\"\n",
              "     width=\"24px\">\n",
              "    <g>\n",
              "        <path d=\"M19 3H5c-1.1 0-2 .9-2 2v14c0 1.1.9 2 2 2h14c1.1 0 2-.9 2-2V5c0-1.1-.9-2-2-2zM9 17H7v-7h2v7zm4 0h-2V7h2v10zm4 0h-2v-4h2v4z\"/>\n",
              "    </g>\n",
              "</svg>\n",
              "  </button>\n",
              "\n",
              "<style>\n",
              "  .colab-df-quickchart {\n",
              "      --bg-color: #E8F0FE;\n",
              "      --fill-color: #1967D2;\n",
              "      --hover-bg-color: #E2EBFA;\n",
              "      --hover-fill-color: #174EA6;\n",
              "      --disabled-fill-color: #AAA;\n",
              "      --disabled-bg-color: #DDD;\n",
              "  }\n",
              "\n",
              "  [theme=dark] .colab-df-quickchart {\n",
              "      --bg-color: #3B4455;\n",
              "      --fill-color: #D2E3FC;\n",
              "      --hover-bg-color: #434B5C;\n",
              "      --hover-fill-color: #FFFFFF;\n",
              "      --disabled-bg-color: #3B4455;\n",
              "      --disabled-fill-color: #666;\n",
              "  }\n",
              "\n",
              "  .colab-df-quickchart {\n",
              "    background-color: var(--bg-color);\n",
              "    border: none;\n",
              "    border-radius: 50%;\n",
              "    cursor: pointer;\n",
              "    display: none;\n",
              "    fill: var(--fill-color);\n",
              "    height: 32px;\n",
              "    padding: 0;\n",
              "    width: 32px;\n",
              "  }\n",
              "\n",
              "  .colab-df-quickchart:hover {\n",
              "    background-color: var(--hover-bg-color);\n",
              "    box-shadow: 0 1px 2px rgba(60, 64, 67, 0.3), 0 1px 3px 1px rgba(60, 64, 67, 0.15);\n",
              "    fill: var(--button-hover-fill-color);\n",
              "  }\n",
              "\n",
              "  .colab-df-quickchart-complete:disabled,\n",
              "  .colab-df-quickchart-complete:disabled:hover {\n",
              "    background-color: var(--disabled-bg-color);\n",
              "    fill: var(--disabled-fill-color);\n",
              "    box-shadow: none;\n",
              "  }\n",
              "\n",
              "  .colab-df-spinner {\n",
              "    border: 2px solid var(--fill-color);\n",
              "    border-color: transparent;\n",
              "    border-bottom-color: var(--fill-color);\n",
              "    animation:\n",
              "      spin 1s steps(1) infinite;\n",
              "  }\n",
              "\n",
              "  @keyframes spin {\n",
              "    0% {\n",
              "      border-color: transparent;\n",
              "      border-bottom-color: var(--fill-color);\n",
              "      border-left-color: var(--fill-color);\n",
              "    }\n",
              "    20% {\n",
              "      border-color: transparent;\n",
              "      border-left-color: var(--fill-color);\n",
              "      border-top-color: var(--fill-color);\n",
              "    }\n",
              "    30% {\n",
              "      border-color: transparent;\n",
              "      border-left-color: var(--fill-color);\n",
              "      border-top-color: var(--fill-color);\n",
              "      border-right-color: var(--fill-color);\n",
              "    }\n",
              "    40% {\n",
              "      border-color: transparent;\n",
              "      border-right-color: var(--fill-color);\n",
              "      border-top-color: var(--fill-color);\n",
              "    }\n",
              "    60% {\n",
              "      border-color: transparent;\n",
              "      border-right-color: var(--fill-color);\n",
              "    }\n",
              "    80% {\n",
              "      border-color: transparent;\n",
              "      border-right-color: var(--fill-color);\n",
              "      border-bottom-color: var(--fill-color);\n",
              "    }\n",
              "    90% {\n",
              "      border-color: transparent;\n",
              "      border-bottom-color: var(--fill-color);\n",
              "    }\n",
              "  }\n",
              "</style>\n",
              "\n",
              "  <script>\n",
              "    async function quickchart(key) {\n",
              "      const quickchartButtonEl =\n",
              "        document.querySelector('#' + key + ' button');\n",
              "      quickchartButtonEl.disabled = true;  // To prevent multiple clicks.\n",
              "      quickchartButtonEl.classList.add('colab-df-spinner');\n",
              "      try {\n",
              "        const charts = await google.colab.kernel.invokeFunction(\n",
              "            'suggestCharts', [key], {});\n",
              "      } catch (error) {\n",
              "        console.error('Error during call to suggestCharts:', error);\n",
              "      }\n",
              "      quickchartButtonEl.classList.remove('colab-df-spinner');\n",
              "      quickchartButtonEl.classList.add('colab-df-quickchart-complete');\n",
              "    }\n",
              "    (() => {\n",
              "      let quickchartButtonEl =\n",
              "        document.querySelector('#df-7f354d86-572c-4f87-b907-a01629459a97 button');\n",
              "      quickchartButtonEl.style.display =\n",
              "        google.colab.kernel.accessAllowed ? 'block' : 'none';\n",
              "    })();\n",
              "  </script>\n",
              "</div>\n",
              "\n",
              "    </div>\n",
              "  </div>\n"
            ],
            "application/vnd.google.colaboratory.intrinsic+json": {
              "type": "dataframe",
              "variable_name": "x"
            }
          },
          "metadata": {},
          "execution_count": 14
        }
      ],
      "source": [
        "x.head()"
      ]
    },
    {
      "cell_type": "code",
      "execution_count": null,
      "id": "2c852e9f",
      "metadata": {
        "colab": {
          "base_uri": "https://localhost:8080/"
        },
        "id": "2c852e9f",
        "outputId": "2014048b-fda4-447b-857b-def7d514f430"
      },
      "outputs": [
        {
          "output_type": "execute_result",
          "data": {
            "text/plain": [
              "0    Defense Services\n",
              "1             Finance\n",
              "2         Engineering\n",
              "3         Engineering\n",
              "4         Music/Dance\n",
              "Name: Career_field, dtype: object"
            ]
          },
          "metadata": {},
          "execution_count": 15
        }
      ],
      "source": [
        "y.head()"
      ]
    },
    {
      "cell_type": "code",
      "execution_count": null,
      "id": "f62332e9",
      "metadata": {
        "id": "f62332e9"
      },
      "outputs": [],
      "source": [
        "from sklearn.model_selection import train_test_split\n",
        "x_train,x_test,y_train,y_test=train_test_split(x,y,test_size=0.2,random_state=50)"
      ]
    },
    {
      "cell_type": "markdown",
      "id": "ac202de1",
      "metadata": {
        "id": "ac202de1"
      },
      "source": [
        "### Decision Tree Model"
      ]
    },
    {
      "cell_type": "code",
      "execution_count": null,
      "id": "dd0c71b8",
      "metadata": {
        "id": "dd0c71b8"
      },
      "outputs": [],
      "source": [
        "from sklearn.tree import DecisionTreeClassifier\n",
        "#to draw the graph\n",
        "from sklearn.tree import export_graphviz\n",
        "from six import StringIO\n",
        "from IPython.display import Image\n",
        "import pydotplus"
      ]
    },
    {
      "cell_type": "code",
      "execution_count": null,
      "id": "5b8b1fb4",
      "metadata": {
        "id": "5b8b1fb4"
      },
      "outputs": [],
      "source": [
        "tree=DecisionTreeClassifier(criterion='entropy')"
      ]
    },
    {
      "cell_type": "code",
      "execution_count": null,
      "id": "ae547a1a",
      "metadata": {
        "colab": {
          "base_uri": "https://localhost:8080/",
          "height": 74
        },
        "id": "ae547a1a",
        "outputId": "4a2cfbd1-5c91-424f-b77b-dedc516a49d0"
      },
      "outputs": [
        {
          "output_type": "execute_result",
          "data": {
            "text/plain": [
              "DecisionTreeClassifier(criterion='entropy')"
            ],
            "text/html": [
              "<style>#sk-container-id-1 {color: black;background-color: white;}#sk-container-id-1 pre{padding: 0;}#sk-container-id-1 div.sk-toggleable {background-color: white;}#sk-container-id-1 label.sk-toggleable__label {cursor: pointer;display: block;width: 100%;margin-bottom: 0;padding: 0.3em;box-sizing: border-box;text-align: center;}#sk-container-id-1 label.sk-toggleable__label-arrow:before {content: \"▸\";float: left;margin-right: 0.25em;color: #696969;}#sk-container-id-1 label.sk-toggleable__label-arrow:hover:before {color: black;}#sk-container-id-1 div.sk-estimator:hover label.sk-toggleable__label-arrow:before {color: black;}#sk-container-id-1 div.sk-toggleable__content {max-height: 0;max-width: 0;overflow: hidden;text-align: left;background-color: #f0f8ff;}#sk-container-id-1 div.sk-toggleable__content pre {margin: 0.2em;color: black;border-radius: 0.25em;background-color: #f0f8ff;}#sk-container-id-1 input.sk-toggleable__control:checked~div.sk-toggleable__content {max-height: 200px;max-width: 100%;overflow: auto;}#sk-container-id-1 input.sk-toggleable__control:checked~label.sk-toggleable__label-arrow:before {content: \"▾\";}#sk-container-id-1 div.sk-estimator input.sk-toggleable__control:checked~label.sk-toggleable__label {background-color: #d4ebff;}#sk-container-id-1 div.sk-label input.sk-toggleable__control:checked~label.sk-toggleable__label {background-color: #d4ebff;}#sk-container-id-1 input.sk-hidden--visually {border: 0;clip: rect(1px 1px 1px 1px);clip: rect(1px, 1px, 1px, 1px);height: 1px;margin: -1px;overflow: hidden;padding: 0;position: absolute;width: 1px;}#sk-container-id-1 div.sk-estimator {font-family: monospace;background-color: #f0f8ff;border: 1px dotted black;border-radius: 0.25em;box-sizing: border-box;margin-bottom: 0.5em;}#sk-container-id-1 div.sk-estimator:hover {background-color: #d4ebff;}#sk-container-id-1 div.sk-parallel-item::after {content: \"\";width: 100%;border-bottom: 1px solid gray;flex-grow: 1;}#sk-container-id-1 div.sk-label:hover label.sk-toggleable__label {background-color: #d4ebff;}#sk-container-id-1 div.sk-serial::before {content: \"\";position: absolute;border-left: 1px solid gray;box-sizing: border-box;top: 0;bottom: 0;left: 50%;z-index: 0;}#sk-container-id-1 div.sk-serial {display: flex;flex-direction: column;align-items: center;background-color: white;padding-right: 0.2em;padding-left: 0.2em;position: relative;}#sk-container-id-1 div.sk-item {position: relative;z-index: 1;}#sk-container-id-1 div.sk-parallel {display: flex;align-items: stretch;justify-content: center;background-color: white;position: relative;}#sk-container-id-1 div.sk-item::before, #sk-container-id-1 div.sk-parallel-item::before {content: \"\";position: absolute;border-left: 1px solid gray;box-sizing: border-box;top: 0;bottom: 0;left: 50%;z-index: -1;}#sk-container-id-1 div.sk-parallel-item {display: flex;flex-direction: column;z-index: 1;position: relative;background-color: white;}#sk-container-id-1 div.sk-parallel-item:first-child::after {align-self: flex-end;width: 50%;}#sk-container-id-1 div.sk-parallel-item:last-child::after {align-self: flex-start;width: 50%;}#sk-container-id-1 div.sk-parallel-item:only-child::after {width: 0;}#sk-container-id-1 div.sk-dashed-wrapped {border: 1px dashed gray;margin: 0 0.4em 0.5em 0.4em;box-sizing: border-box;padding-bottom: 0.4em;background-color: white;}#sk-container-id-1 div.sk-label label {font-family: monospace;font-weight: bold;display: inline-block;line-height: 1.2em;}#sk-container-id-1 div.sk-label-container {text-align: center;}#sk-container-id-1 div.sk-container {/* jupyter's `normalize.less` sets `[hidden] { display: none; }` but bootstrap.min.css set `[hidden] { display: none !important; }` so we also need the `!important` here to be able to override the default hidden behavior on the sphinx rendered scikit-learn.org. See: https://github.com/scikit-learn/scikit-learn/issues/21755 */display: inline-block !important;position: relative;}#sk-container-id-1 div.sk-text-repr-fallback {display: none;}</style><div id=\"sk-container-id-1\" class=\"sk-top-container\"><div class=\"sk-text-repr-fallback\"><pre>DecisionTreeClassifier(criterion=&#x27;entropy&#x27;)</pre><b>In a Jupyter environment, please rerun this cell to show the HTML representation or trust the notebook. <br />On GitHub, the HTML representation is unable to render, please try loading this page with nbviewer.org.</b></div><div class=\"sk-container\" hidden><div class=\"sk-item\"><div class=\"sk-estimator sk-toggleable\"><input class=\"sk-toggleable__control sk-hidden--visually\" id=\"sk-estimator-id-1\" type=\"checkbox\" checked><label for=\"sk-estimator-id-1\" class=\"sk-toggleable__label sk-toggleable__label-arrow\">DecisionTreeClassifier</label><div class=\"sk-toggleable__content\"><pre>DecisionTreeClassifier(criterion=&#x27;entropy&#x27;)</pre></div></div></div></div></div>"
            ]
          },
          "metadata": {},
          "execution_count": 19
        }
      ],
      "source": [
        "tree.fit(x_train,y_train)"
      ]
    },
    {
      "cell_type": "code",
      "execution_count": null,
      "id": "b8be3a0d",
      "metadata": {
        "colab": {
          "base_uri": "https://localhost:8080/",
          "height": 1000
        },
        "id": "b8be3a0d",
        "outputId": "8455517f-c2e0-4ac2-9170-fd030fdf133a"
      },
      "outputs": [
        {
          "output_type": "execute_result",
          "data": {
            "image/png": "[encoded data removed]",
            "text/plain": [
              "<IPython.core.display.Image object>"
            ]
          },
          "metadata": {
            "image/png": {
              "width": 1000,
              "height": 2000
            }
          },
          "execution_count": 20
        }
      ],
      "source": [
        "#printing the tree\n",
        "import os\n",
        "os.environ[\"PATH\"] += os.pathsep + r'C:\\Program Files\\Graphviz\\bin'\n",
        "dot_data = StringIO()\n",
        "export_graphviz(tree, out_file=dot_data, filled=True, rounded=True, special_characters=True)\n",
        "graph = pydotplus.graph_from_dot_data(dot_data.getvalue())\n",
        "Image(graph.create_png(), width=1000, height=2000)"
      ]
    },
    {
      "cell_type": "code",
      "execution_count": null,
      "id": "b63963fe",
      "metadata": {
        "id": "b63963fe"
      },
      "outputs": [],
      "source": [
        "#predicting\n",
        "y_predict=tree.predict(x_test)"
      ]
    },
    {
      "cell_type": "markdown",
      "id": "d621666e",
      "metadata": {
        "id": "d621666e"
      },
      "source": [
        "### Accuracy"
      ]
    },
    {
      "cell_type": "code",
      "execution_count": null,
      "id": "7ca0c9e6",
      "metadata": {
        "scrolled": true,
        "colab": {
          "base_uri": "https://localhost:8080/"
        },
        "id": "7ca0c9e6",
        "outputId": "2b2cda01-b158-4ac7-8ba9-7d47219c910e"
      },
      "outputs": [
        {
          "output_type": "stream",
          "name": "stdout",
          "text": [
            "Accuracy: 0.75\n"
          ]
        }
      ],
      "source": [
        "from sklearn import metrics\n",
        "print('Accuracy:',metrics.accuracy_score(y_test,y_predict))"
      ]
    },
    {
      "cell_type": "markdown",
      "id": "6db120b7",
      "metadata": {
        "id": "6db120b7"
      },
      "source": [
        "### Oversampling"
      ]
    },
    {
      "cell_type": "code",
      "execution_count": null,
      "id": "fde23243",
      "metadata": {
        "id": "fde23243"
      },
      "outputs": [],
      "source": [
        "# SMOTE can't be performed here due to less data available, because n_neighbors<=n_samples for the target\n",
        "# from imblearn.over_sampling import SMOTE\n",
        "# smote=SMOTE()\n",
        "# x_train_smote,y_train_smote=smote.fit_resample(x_train,y_train)"
      ]
    },
    {
      "cell_type": "code",
      "execution_count": null,
      "id": "00b4e57d",
      "metadata": {
        "id": "00b4e57d"
      },
      "outputs": [],
      "source": [
        "# from collections import Counter\n",
        "# print('Before smote:',Counter(y_train))\n",
        "# print('After smote:',Counter(y_train_smote))"
      ]
    },
    {
      "cell_type": "code",
      "execution_count": null,
      "id": "3a663976",
      "metadata": {
        "colab": {
          "base_uri": "https://localhost:8080/"
        },
        "id": "3a663976",
        "outputId": "7287551b-feb1-4b69-cab7-4431df717e00"
      },
      "outputs": [
        {
          "output_type": "stream",
          "name": "stdout",
          "text": [
            "Before oversampling:  Counter({'Engineering': 14, 'Medical': 8, 'Marketing': 6, 'Sports': 5, 'Finance': 4, 'Law': 4, 'Defense Services': 3, 'Music/Dance': 3})\n",
            "After oversampling:  Counter({'Sports': 14, 'Defense Services': 14, 'Marketing': 14, 'Medical': 14, 'Finance': 14, 'Engineering': 14, 'Law': 14, 'Music/Dance': 14})\n"
          ]
        }
      ],
      "source": [
        "from collections import Counter\n",
        "from imblearn.over_sampling import RandomOverSampler\n",
        "ros=RandomOverSampler(random_state=0)\n",
        "x_osamp,y_osamp=ros.fit_resample(x_train,y_train)\n",
        "print('Before oversampling: ',Counter(y_train))\n",
        "print('After oversampling: ',Counter(y_osamp))"
      ]
    },
    {
      "cell_type": "code",
      "execution_count": null,
      "id": "f8e57a68",
      "metadata": {
        "colab": {
          "base_uri": "https://localhost:8080/"
        },
        "id": "f8e57a68",
        "outputId": "d014795a-0c98-448f-deee-8897d60027cd"
      },
      "outputs": [
        {
          "output_type": "stream",
          "name": "stdout",
          "text": [
            "0.75\n"
          ]
        }
      ],
      "source": [
        "tree.fit(x_osamp,y_osamp)\n",
        "y_predict=tree.predict(x_test)\n",
        "print(metrics.accuracy_score(y_test,y_predict))"
      ]
    },
    {
      "cell_type": "markdown",
      "id": "aab8ed16",
      "metadata": {
        "id": "aab8ed16"
      },
      "source": [
        "### Stacking"
      ]
    },
    {
      "cell_type": "code",
      "execution_count": null,
      "id": "78f4ad76",
      "metadata": {
        "id": "78f4ad76"
      },
      "outputs": [],
      "source": [
        "from sklearn.naive_bayes import GaussianNB\n",
        "nb=GaussianNB()\n",
        "nb.fit(x_train,y_train)\n",
        "y_predict=nb.predict(x_test)"
      ]
    },
    {
      "cell_type": "code",
      "execution_count": null,
      "id": "0c7191ad",
      "metadata": {
        "id": "0c7191ad",
        "outputId": "575ca4ef-440a-4a98-dfd5-152398a80415",
        "colab": {
          "base_uri": "https://localhost:8080/"
        }
      },
      "outputs": [
        {
          "output_type": "stream",
          "name": "stdout",
          "text": [
            "0.8333333333333334\n"
          ]
        }
      ],
      "source": [
        "print(metrics.accuracy_score(y_test,y_predict))"
      ]
    },
    {
      "cell_type": "code",
      "execution_count": null,
      "id": "f6d54e20",
      "metadata": {
        "colab": {
          "base_uri": "https://localhost:8080/"
        },
        "id": "f6d54e20",
        "outputId": "97019d1f-b706-4869-e316-2b83e6d3b654"
      },
      "outputs": [
        {
          "output_type": "stream",
          "name": "stdout",
          "text": [
            "For k= 3\n",
            "Accuracy: 0.8333333333333334\n",
            "For k= 5\n",
            "Accuracy: 0.9166666666666666\n",
            "For k= 10\n",
            "Accuracy: 0.9166666666666666\n"
          ]
        },
        {
          "output_type": "stream",
          "name": "stderr",
          "text": [
            "/usr/local/lib/python3.10/dist-packages/sklearn/model_selection/_split.py:700: UserWarning: The least populated class in y has only 3 members, which is less than n_splits=5.\n",
            "  warnings.warn(\n",
            "/usr/local/lib/python3.10/dist-packages/sklearn/model_selection/_split.py:700: UserWarning: The least populated class in y has only 3 members, which is less than n_splits=5.\n",
            "  warnings.warn(\n",
            "/usr/local/lib/python3.10/dist-packages/sklearn/model_selection/_split.py:700: UserWarning: The least populated class in y has only 3 members, which is less than n_splits=10.\n",
            "  warnings.warn(\n",
            "/usr/local/lib/python3.10/dist-packages/sklearn/model_selection/_split.py:700: UserWarning: The least populated class in y has only 3 members, which is less than n_splits=10.\n",
            "  warnings.warn(\n"
          ]
        }
      ],
      "source": [
        "level0=[('dt',DecisionTreeClassifier()),\n",
        "       ('nb',GaussianNB())]\n",
        "#level 1\n",
        "from sklearn.linear_model import LogisticRegression\n",
        "level1=LogisticRegression()\n",
        "from sklearn.ensemble import StackingClassifier\n",
        "\n",
        "# for k=3,5,10\n",
        "k=[3,5,10]\n",
        "for i in k:\n",
        "    stack=StackingClassifier(estimators=level0,final_estimator=level1,cv=i)\n",
        "    stack.fit(x_train,y_train)\n",
        "    #predict=stack.predict(x_test)\n",
        "    #print(metrics.accuracy_score(predict,y_test))\n",
        "    print('For k=',i)\n",
        "    print('Accuracy:',stack.score(x_test,y_test))"
      ]
    },
    {
      "cell_type": "markdown",
      "id": "71a8771f",
      "metadata": {
        "id": "71a8771f"
      },
      "source": [
        "### Random forest"
      ]
    },
    {
      "cell_type": "code",
      "execution_count": null,
      "id": "3afab9ab",
      "metadata": {
        "colab": {
          "base_uri": "https://localhost:8080/"
        },
        "id": "3afab9ab",
        "outputId": "11e22814-8b5c-4efb-c6e0-331ccb14a3bf"
      },
      "outputs": [
        {
          "output_type": "execute_result",
          "data": {
            "text/plain": [
              "array([10, 11, 12, 13, 14, 15, 16, 17, 18, 19, 20])"
            ]
          },
          "metadata": {},
          "execution_count": 28
        }
      ],
      "source": [
        "n_trees=np.arange(10,21,1)\n",
        "n_trees"
      ]
    },
    {
      "cell_type": "code",
      "execution_count": null,
      "id": "1773c41a",
      "metadata": {
        "colab": {
          "base_uri": "https://localhost:8080/"
        },
        "id": "1773c41a",
        "outputId": "3e45dff6-b07c-4ecd-8d93-162408ae8503"
      },
      "outputs": [
        {
          "output_type": "stream",
          "name": "stdout",
          "text": [
            "Optimal number of trees: 10\n",
            "Accuracy: 1.0\n"
          ]
        }
      ],
      "source": [
        "from sklearn.ensemble import RandomForestClassifier\n",
        "opt_trees=0\n",
        "acc=0\n",
        "for i in n_trees:\n",
        "    rfc=RandomForestClassifier(criterion=\"entropy\",n_estimators=i)\n",
        "    rfc.fit(x_train,y_train)\n",
        "    y_predict=rfc.predict(x_test)\n",
        "    accuracy=metrics.accuracy_score(y_test,y_predict)\n",
        "    if accuracy>acc:\n",
        "        opt_trees=i\n",
        "        acc=accuracy\n",
        "        y_predicted=y_predict\n",
        "    if acc==1:\n",
        "        break\n",
        "print(\"Optimal number of trees:\",opt_trees)\n",
        "print(\"Accuracy:\",acc)"
      ]
    },
    {
      "cell_type": "code",
      "execution_count": null,
      "id": "31e36c70",
      "metadata": {
        "colab": {
          "base_uri": "https://localhost:8080/"
        },
        "id": "31e36c70",
        "outputId": "3c532d17-74d0-40c8-d0d4-b9faec15fc8a"
      },
      "outputs": [
        {
          "output_type": "execute_result",
          "data": {
            "text/plain": [
              "10"
            ]
          },
          "metadata": {},
          "execution_count": 30
        }
      ],
      "source": [
        "#optimal no of trees for best accuracy\n",
        "opt_trees"
      ]
    },
    {
      "cell_type": "code",
      "execution_count": null,
      "id": "fc445bc6",
      "metadata": {
        "colab": {
          "base_uri": "https://localhost:8080/"
        },
        "id": "fc445bc6",
        "outputId": "b79a7d09-157a-421f-aa06-ec126b695651"
      },
      "outputs": [
        {
          "output_type": "execute_result",
          "data": {
            "text/plain": [
              "1              Finance\n",
              "24         Engineering\n",
              "46         Engineering\n",
              "39         Music/Dance\n",
              "23         Engineering\n",
              "8          Engineering\n",
              "41    Defense Services\n",
              "42         Engineering\n",
              "18         Engineering\n",
              "43         Engineering\n",
              "56             Medical\n",
              "13         Engineering\n",
              "Name: Career_field, dtype: object"
            ]
          },
          "metadata": {},
          "execution_count": 31
        }
      ],
      "source": [
        "y_test"
      ]
    },
    {
      "cell_type": "code",
      "execution_count": null,
      "id": "b7318df5",
      "metadata": {
        "colab": {
          "base_uri": "https://localhost:8080/"
        },
        "id": "b7318df5",
        "outputId": "96798e5a-1f56-497e-940f-4090dcf1ee8a"
      },
      "outputs": [
        {
          "output_type": "execute_result",
          "data": {
            "text/plain": [
              "array(['Finance', 'Engineering', 'Engineering', 'Music/Dance',\n",
              "       'Engineering', 'Engineering', 'Defense Services', 'Engineering',\n",
              "       'Engineering', 'Engineering', 'Medical', 'Engineering'],\n",
              "      dtype=object)"
            ]
          },
          "metadata": {},
          "execution_count": 32
        }
      ],
      "source": [
        "y_predicted"
      ]
    },
    {
      "cell_type": "code",
      "execution_count": 38,
      "id": "b9e8d92e",
      "metadata": {
        "colab": {
          "base_uri": "https://localhost:8080/"
        },
        "id": "b9e8d92e",
        "outputId": "50a2bf64-b71e-4923-9053-4cc9302df23b"
      },
      "outputs": [
        {
          "output_type": "stream",
          "name": "stdout",
          "text": [
            "[[1.0 'singing']]\n"
          ]
        }
      ],
      "source": [
        "import pandas as pd\n",
        "from sklearn.preprocessing import OneHotEncoder\n",
        "import numpy as np\n",
        "\n",
        "def format_test_set(test_set):\n",
        "    \"\"\"\n",
        "    Formats the test set array by applying one-hot encoding for the second column\n",
        "    and numerical encoding for the last column.\n",
        "\n",
        "    Args:\n",
        "        test_set: A list representing the test set data.\n",
        "\n",
        "    Returns:\n",
        "        A NumPy array containing the formatted test set data.\n",
        "    \"\"\"\n",
        "\n",
        "    # One-hot encoding for the second column\n",
        "    enc = OneHotEncoder(handle_unknown='ignore')\n",
        "    X = enc.fit_transform(np.array(test_set)[:, 1].reshape(-1, 1)).toarray()\n",
        "    dfOneHot = pd.DataFrame(X, columns=[f\"Stream_{i}\" for i in enc.categories_[0]])\n",
        "\n",
        "    # Numerical encoding for the last column\n",
        "    tags = {'Yes': 1, 'No': 0}\n",
        "    last_col = pd.Series(np.array(test_set)[:, -1]).replace(tags)\n",
        "\n",
        "    # Combine the encoded columns\n",
        "    formatted_data = pd.concat([dfOneHot, last_col], axis=1)\n",
        "\n",
        "    return formatted_data.to_numpy()\n",
        "\n",
        "# Example test set\n",
        "test_set = [[65, 'Arts/Humanities', 70, 71, 'No', 'No', 'No', 'No', 90, 85, 'Yes', 4, 70, 'singing']]\n",
        "\n",
        "# Format the test set\n",
        "test_set_processed = format_test_set(test_set)\n",
        "\n",
        "# Print the processed test set\n",
        "print(test_set_processed)\n"
      ]
    },
    {
      "cell_type": "code",
      "execution_count": null,
      "id": "9b731e47",
      "metadata": {
        "id": "9b731e47",
        "outputId": "ab158c48-281f-4edf-9be2-f45b4a6c5091",
        "colab": {
          "base_uri": "https://localhost:8080/"
        }
      },
      "outputs": [
        {
          "output_type": "stream",
          "name": "stdout",
          "text": [
            "What was your class 10 percentage? 96\n",
            "What was your stream? Science(PCM)\n",
            "What was your class 11 percentage? 86\n",
            "What was your class 12 percentage? 90\n",
            "Interested in drawing/arts? No\n",
            "Interested in sports? Yes\n",
            "Were you good in playing any sport? Yes\n",
            "Did you like coding when you were in 11th? Yes\n",
            "Rate your patriotism on a scale from 1-100 (1 being least, 100 being most) 55\n",
            "Rate your communication skills from 1-100 (1 being least, 100 being most) 60\n",
            "Do you like singing/dancing? No\n",
            "Rate your reading & writing skills from 1-100 (1 being least, 100 being most) 79\n",
            "Rate your negotiating skills from 1-100 (1 being least, 100 being most) 40\n",
            "What is your hobby? Coding\n",
            "Data saved to user_data.csv successfully!\n"
          ]
        }
      ],
      "source": [
        "import csv\n",
        "\n",
        "def write_user_data_to_csv():\n",
        "  \"\"\"\n",
        "  Prompts the user for answers to various questions and saves them to a CSV file,\n",
        "  with answers on one line separated by commas.\n",
        "  \"\"\"\n",
        "  # Define questions\n",
        "  questions = [\n",
        "      \"What was your class 10 percentage?\",\n",
        "      \"What was your stream?\",\n",
        "      \"What was your class 11 percentage?\",\n",
        "      \"What was your class 12 percentage?\",\n",
        "      \"Interested in drawing/arts?\",\n",
        "      \"Interested in sports?\",\n",
        "      \"Were you good in playing any sport?\",\n",
        "      \"Did you like coding when you were in 11th?\",\n",
        "      \"Rate your patriotism on a scale from 1-100 (1 being least, 100 being most)\",\n",
        "      \"Rate your communication skills from 1-100 (1 being least, 100 being most)\",\n",
        "      \"Do you like singing/dancing?\",\n",
        "      \"Rate your reading & writing skills from 1-100 (1 being least, 100 being most)\",\n",
        "      \"Rate your negotiating skills from 1-100 (1 being least, 100 being most)\",\n",
        "      \"What is your hobby?\"\n",
        "  ]\n",
        "\n",
        "  # Get user answers\n",
        "  answers = []\n",
        "  for question in questions:\n",
        "    answer = input(question + \" \")\n",
        "    answers.append(answer)\n",
        "\n",
        "  # Write data to CSV file in one line\n",
        "  with open(\"user_data.csv\", \"w\", newline=\"\") as csvfile:\n",
        "    writer = csv.writer(csvfile)\n",
        "    writer.writerow(answers)  # Write all answers as a single row\n",
        "\n",
        "  print(\"Data saved to user_data.csv successfully!\")\n",
        "\n",
        "# Run the function\n",
        "write_user_data_to_csv()\n"
      ]
    },
    {
      "cell_type": "markdown",
      "id": "374dde90",
      "metadata": {
        "id": "374dde90"
      },
      "source": [
        "# Predicting for a certain example"
      ]
    },
    {
      "cell_type": "code",
      "execution_count": 44,
      "id": "50b40921",
      "metadata": {
        "colab": {
          "base_uri": "https://localhost:8080/"
        },
        "id": "50b40921",
        "outputId": "d1255f93-0848-453f-bbf2-1602e745cc03"
      },
      "outputs": [
        {
          "output_type": "stream",
          "name": "stdout",
          "text": [
            "[[1.0 'singing']]\n"
          ]
        }
      ],
      "source": [
        "# Perc_10\tPerc_11\tPerc_12\tDrawing_arts\tSports\tGoodIn_sports\tCoding\tPatriotism\tCom_skill\tSing_dance\tRead_write\n",
        "#Nego_skill\tStream_Arts/Humanities\tStream_Commerce\tStream_Science(PCB)\tStream_Science(PCM)\tStream_Science(PCMB)\n",
        "#Hobby_Biking\tHobby_Coding\tHobby_Dancing\tHobby_Drawing\tHobby_Helping nature\tHobby_Numismatics\tHobby_Playing Video games\n",
        "#Hobby_Reading\tHobby_Sports\tHobby_singing\n",
        "from sklearn.preprocessing import OneHotEncoder\n",
        "\n",
        "# test_set = [[65,'Arts/Humanities', 70, 71, 'No', 'No', 'No', 'No', 90, 85, 'Yes', 4, 70, 'singing']]\n",
        "\n",
        "test_set=[[65,'Arts/Humanities',70,71,'No','No','No','No',90,85,'Yes',4,70,'singing']]\n",
        "another_test_set = [[96, 'Science(PCM)',86,90, 'No','Yes','Yes','Yes',55,60,'No',79,40,'Coding']]\n",
        "# test_set=[[65,60,71,0,1,1,0,90,85,1,4,70,1,0,0,0,0,0,0,0,0,0,0,0,0,0,1]]\n",
        "test_set_processed = format_test_set(test_set)\n",
        "print(test_set_processed)\n",
        "# print(rfc.predict(test_set))\n",
        "\n"
      ]
    },
    {
      "cell_type": "code",
      "execution_count": null,
      "id": "db2be3a6",
      "metadata": {
        "id": "db2be3a6"
      },
      "outputs": [],
      "source": []
    }
  ],
  "metadata": {
    "kernelspec": {
      "display_name": "Python 3",
      "language": "python",
      "name": "python3"
    },
    "language_info": {
      "codemirror_mode": {
        "name": "ipython",
        "version": 3
      },
      "file_extension": ".py",
      "mimetype": "text/x-python",
      "name": "python",
      "nbconvert_exporter": "python",
      "pygments_lexer": "ipython3",
      "version": "3.12.2"
    },
    "colab": {
      "provenance": [],
      "include_colab_link": true
    }
  },
  "nbformat": 4,
  "nbformat_minor": 5
}